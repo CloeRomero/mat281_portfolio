{
 "cells": [
  {
   "cell_type": "markdown",
   "metadata": {},
   "source": [
    "# MAT281 - Tarea 2"
   ]
  },
  {
   "cell_type": "markdown",
   "metadata": {},
   "source": [
    "**Indicaciones**:\n",
    "\n",
    "* En los **Ejercicio 1-8** puedes utilizar tanto `matplotlib` como `altair` según te parezca más conveniente o cómodo, en ambos casos cada gráfico debe tener elementos mínimos como:\n",
    "    - Título\n",
    "    - Nombre de los ejes, leyendas, etc. en formato _amigable_/_humano_, por ejemplo, si la columna del dataframe en cuestión tiene por nombre `casos_confirmados` se espera que el eje del gráfico tenga por nombre `Casos confirmados`.\n",
    "    - Colores adecuados al tipo de datos.\n",
    "    - Un tamaño adecuado para ver con facilidad en una pantalla con resolución HD o FullHD.\n",
    "    - Cada vez que no se cumplan alguna de estos requerimientos se descontará __1 punto__ de la nota final.\n",
    "\n",
    "* Para el **Ejercicio 9** es obligación utilizar `altair`.\n",
    "* Cada ejercicio debe estar acompañado con una celda con comentarios o análisis que puedas desprender de los gráficos."
   ]
  },
  {
   "cell_type": "code",
   "execution_count": null,
   "metadata": {},
   "outputs": [],
   "source": [
    "import numpy as np\n",
    "import pandas as pd\n",
    "import matplotlib.pyplot as plt\n",
    "import altair as alt\n",
    "import ipywidgets as widgets\n",
    "\n",
    "from datetime import date\n",
    "from ipywidgets import interactive, interact\n",
    "\n",
    "pd.set_option('display.max_columns', 999)\n",
    "# alt.data_transformers.enable('data_server')\n",
    "alt.data_transformers.disable_max_rows()\n",
    "alt.themes.enable('opaque')\n",
    "\n",
    "%matplotlib inline"
   ]
  },
  {
   "cell_type": "markdown",
   "metadata": {},
   "source": [
    "**COVID-19 en Chile** \n",
    "\n",
    "En esta tarea exploraremos los datos de Covid-19 en Chile a profundidad. Las siguientes celdas cargarán los datos a utilizar en tu sesión. Es importante que leas la documentación de cada conjunto de datos para comprender las columnas."
   ]
  },
  {
   "cell_type": "code",
   "execution_count": null,
   "metadata": {},
   "outputs": [],
   "source": [
    "start_date = pd.to_datetime(\"2020-04-13\")"
   ]
  },
  {
   "cell_type": "code",
   "execution_count": null,
   "metadata": {},
   "outputs": [],
   "source": [
    "# https://github.com/MinCiencia/Datos-COVID19/tree/master/output/producto6\n",
    "confirmados = (\n",
    "    pd.read_csv(\"https://raw.githubusercontent.com/MinCiencia/Datos-COVID19/master/output/producto6/bulk/data.csv\")\n",
    "    .rename(columns=lambda x: x.lower().replace(\" \", \"_\"))\n",
    "    .assign(fecha=lambda x: pd.to_datetime(x[\"fecha\"]))\n",
    "    .loc[lambda x: x[\"fecha\"] >= start_date]\n",
    "    .dropna()\n",
    "    .astype({\"casos_confirmados\": np.float, \"tasa\": np.float})\n",
    ")\n",
    "\n",
    "confirmados.head()"
   ]
  },
  {
   "cell_type": "code",
   "execution_count": null,
   "metadata": {},
   "outputs": [],
   "source": [
    "# https://github.com/MinCiencia/Datos-COVID19/tree/master/output/producto19\n",
    "\n",
    "activos = (\n",
    "    pd.read_csv(\"https://raw.githubusercontent.com/MinCiencia/Datos-COVID19/master/output/producto19/CasosActivosPorComuna.csv\")\n",
    "    .rename(columns=lambda x: x.lower().replace(\" \", \"_\"))\n",
    "    .loc[lambda x: x[\"codigo_comuna\"].notnull()]\n",
    "    .melt(id_vars=[\"region\", \"codigo_region\", \"comuna\", \"codigo_comuna\", \"poblacion\"], var_name=\"fecha\", value_name=\"casos_activos\")\n",
    "    .assign(fecha=lambda x: pd.to_datetime(x[\"fecha\"]))\n",
    "    .loc[lambda x: x[\"fecha\"] >= start_date]\n",
    ")\n",
    "\n",
    "activos.head()"
   ]
  },
  {
   "cell_type": "code",
   "execution_count": null,
   "metadata": {},
   "outputs": [],
   "source": [
    "# https://github.com/MinCiencia/Datos-COVID19/tree/master/output/producto14\n",
    "\n",
    "fallecidos = (\n",
    "    pd.read_csv(\"https://raw.githubusercontent.com/MinCiencia/Datos-COVID19/master/output/producto14/FallecidosCumulativo.csv\")\n",
    "    .rename(columns=lambda x: x.lower().replace(\" \", \"_\"))\n",
    "    .melt(id_vars=[\"region\"], var_name=\"fecha\", value_name=\"fallecidos\")\n",
    "    .assign(\n",
    "        fecha=lambda x: pd.to_datetime(x[\"fecha\"]),\n",
    "    )\n",
    "    .loc[lambda x: x[\"fecha\"] >= start_date]\n",
    ")\n",
    "\n",
    "fallecidos.head()"
   ]
  },
  {
   "cell_type": "code",
   "execution_count": null,
   "metadata": {},
   "outputs": [],
   "source": [
    "# https://github.com/MinCiencia/Datos-COVID19/tree/master/output/producto10\n",
    "\n",
    "fallecidos_etareo = (\n",
    "    pd.read_csv(\"https://raw.githubusercontent.com/MinCiencia/Datos-COVID19/master/output/producto10/FallecidosEtario.csv\")\n",
    "    .rename(columns=lambda x: x.lower().replace(\" \", \"_\"))\n",
    "    .melt(id_vars=[\"grupo_de_edad\"], var_name=\"fecha\", value_name=\"fallecidos\")\n",
    "    .assign(\n",
    "        fecha=lambda x: pd.to_datetime(x[\"fecha\"]),\n",
    "        grupo_de_edad=lambda x: x[\"grupo_de_edad\"].str.replace(\"<=39\", \"0-39\")\n",
    "    )\n",
    "    .loc[lambda x: x[\"fecha\"] >= start_date]\n",
    ")\n",
    "\n",
    "fallecidos_etareo.head()"
   ]
  },
  {
   "cell_type": "markdown",
   "metadata": {},
   "source": [
    "## Ejercicio 1\n",
    "\n",
    "(10 puntos)\n",
    "\n",
    "Mostrar cantidad de fallecidos a la fecha por cada grupo etáreo."
   ]
  },
  {
   "cell_type": "code",
   "execution_count": null,
   "metadata": {},
   "outputs": [],
   "source": [
    "source = pd.DataFrame({'Grupo de edad':fallecidos_etareo.tail(7)[\"grupo_de_edad\"].values,\n",
    "              'Fallecidos hasta la fecha':fallecidos_etareo.tail(7)[\"fallecidos\"].values})\n",
    "\n",
    "barra=alt.Chart(source).mark_bar(color='green',opacity=0.7).encode(\n",
    "    x=alt.X('Grupo de edad:O'),\n",
    "    y='Fallecidos hasta la fecha:Q',\n",
    "    tooltip=['Grupo de edad','Fallecidos hasta la fecha']\n",
    ").properties(\n",
    "    title= 'Cantidad de fallecidos hasta la fecha por edad',\n",
    "    width=800,\n",
    "    height=800\n",
    ")\n",
    "\n",
    "text = alt.Chart(source).mark_bar().encode(\n",
    "    x='Grupo de edad',\n",
    "    y='Fallecidos hasta la fecha',\n",
    "    tooltip=['Grupo de edad','Fallecidos hasta la fecha']\n",
    ").mark_text(baseline='middle').encode(\n",
    "    text='Fallecidos hasta la fecha'\n",
    ") \n",
    "\n",
    "barra+text"
   ]
  },
  {
   "cell_type": "markdown",
   "metadata": {},
   "source": [
    "**Comentarios:** A partir de la gráfica podemos decir que las personas entre 60 y 89 años son las que en mayor cantidad la enfermedad les ha afectado fatalmente, por lo que podemos reafirmar que los adultos mayores son los que están en mayor riesgo ante la enfermedad, especialmente las que se encuentran entre los 70 y 79 años."
   ]
  },
  {
   "cell_type": "markdown",
   "metadata": {},
   "source": [
    "## Ejercicio 2\n",
    "\n",
    "(10 puntos)\n",
    "\n",
    "¿Qué tan variable es la población de las comunas de Chile? Considera utilizar un gráfico que resuma de buena forma la información sin agregar la variable de región o provincia."
   ]
  },
  {
   "cell_type": "code",
   "execution_count": null,
   "metadata": {},
   "outputs": [],
   "source": [
    "comunas = activos.comuna.unique()\n",
    "poblacion_comunas = []\n",
    "for nom_comuna in activos.comuna.unique():\n",
    "    poblacion_comunas.append(activos.loc[activos[\"comuna\"] == nom_comuna][\"poblacion\"].unique()[0])\n",
    "    \n",
    "df = pd.concat([ pd.DataFrame({\"comunas\": comunas}), pd.DataFrame({\"poblacion\":poblacion_comunas}) ], axis=1)   "
   ]
  },
  {
   "cell_type": "code",
   "execution_count": null,
   "metadata": {},
   "outputs": [],
   "source": [
    "puntos= alt.Chart(df).mark_circle().encode(\n",
    "    x='comunas:N',\n",
    "    y=alt.Y('poblacion:Q', axis=alt.Axis(title='Poblacion'))\n",
    ").properties(\n",
    "    width=1400,\n",
    "    height=400\n",
    ")\n",
    "\n",
    "prom = alt.Chart(df).mark_rule(color='red').encode(\n",
    "    y='mean(poblacion):Q',\n",
    "    tooltip=alt.Tooltip('mean(poblacion):Q', title=\"Población nacional promedio\"),\n",
    "    size=alt.value(1)\n",
    ").properties(\n",
    "    width=1400,\n",
    "    height=400\n",
    ")\n",
    "\n",
    "puntos+prom"
   ]
  },
  {
   "cell_type": "markdown",
   "metadata": {},
   "source": [
    "**Comentarios:** Bajo el promedio nacional pareciera encontrarse la mayoría de las comunas y poco dispersas, sin embargo las comunas sobre el promedio es lo contrario, llegando incluso a diferencias de alrededor de 600000 habitantes."
   ]
  },
  {
   "cell_type": "markdown",
   "metadata": {},
   "source": [
    "## Ejercicio 3\n",
    "\n",
    "(10 puntos)\n",
    "\n",
    "Mostrar evolución y comparación de los fallecimientos entre distintos grupos etáreos, pero que al mismo tiempo sea fácil identificar la cantidad de fallecidos total en cada fecha."
   ]
  },
  {
   "cell_type": "code",
   "execution_count": null,
   "metadata": {},
   "outputs": [],
   "source": [
    "def calcular_diferencia(col):\n",
    "    diferencia=[0]\n",
    "    indices=col.index\n",
    "    for x in range(1,len(indices)):\n",
    "        diferencia.append(col[indices[x]]-col[indices[x-1]])\n",
    "    return diferencia"
   ]
  },
  {
   "cell_type": "code",
   "execution_count": null,
   "metadata": {},
   "outputs": [],
   "source": [
    "total_fallecidos= pd.DataFrame(fallecidos_etareo.groupby(\"fecha\")[\"fallecidos\"].sum()).reset_index()\n",
    "\n",
    "fallecidos_por_edad = alt.Chart(fallecidos_etareo).mark_area(opacity=0.7).encode(\n",
    "    x=alt.X(\"fecha\", title=\"Fecha\"),\n",
    "    y=alt.Y(\"fallecidos:Q\", title=\"Fallecidos\"),\n",
    "    color=alt.Color(\"grupo_de_edad:N\", title=\"Grupo etario\", scale=alt.Scale(scheme='set1')),\n",
    "    tooltip=[alt.Tooltip(\"grupo_de_edad\", title=\"Grupo etario\"), \n",
    "             alt.Tooltip(\"fecha\", title=\"Fecha\"), \n",
    "             alt.Tooltip(\"fallecidos\", title=\"Fallecidos\")]\n",
    ").properties(\n",
    "    title=\"Fallecidos por grupo etario\",\n",
    "    width=1400,\n",
    "    height=600\n",
    ")\n",
    "\n",
    "fallecidos_total = alt.Chart(total_fallecidos).mark_point(opacity=0).encode(\n",
    "    x=alt.X(\"fecha\", title=\"Fecha\"),\n",
    "    y=alt.Y(\"fallecidos:Q\", title= \"Fallecidos\"),\n",
    "    tooltip=[alt.Tooltip(\"fecha\", title=\"Fecha\"), alt.Tooltip(\"fallecidos\", title=\"Total fallecidos\")]\n",
    ")\n",
    "\n",
    "fallecidos_por_edad+fallecidos_total"
   ]
  },
  {
   "cell_type": "markdown",
   "metadata": {},
   "source": [
    "**Comentarios:** Nuevamente se confirma que los adultos mayores son los que mueren en mayor cantidad por el virus y que durante todo el periodo ha sido así, además se puede observar que desde Junio a mediados de Julio la cantidad de fallecidos total aumentó más rápido que en todo el periodo registrado, aún así la cantidad de muertos sigue en aumento."
   ]
  },
  {
   "cell_type": "markdown",
   "metadata": {},
   "source": [
    "## Ejercicio 4\n",
    "\n",
    "(10 puntos)\n",
    "\n",
    "Mostrar en tres gráficos la evolución de casos confirmados, evolución de fallecimientos y evolución de casos activos."
   ]
  },
  {
   "cell_type": "code",
   "execution_count": null,
   "metadata": {},
   "outputs": [],
   "source": [
    "def calcular_diferencia(col):\n",
    "    diferencia=[0]\n",
    "    indices=col.index\n",
    "    for x in range(1,len(indices)):\n",
    "        diferencia.append(col[indices[x]]-col[indices[x-1]])\n",
    "    return diferencia"
   ]
  },
  {
   "cell_type": "code",
   "execution_count": null,
   "metadata": {},
   "outputs": [],
   "source": [
    "casos_confirmados = pd.DataFrame(confirmados.groupby(\"fecha\")[\"casos_confirmados\"].sum()).reset_index().assign(casos_confirmados_nuevos = (lambda df: df[\"casos_confirmados\"].transform(lambda col: calcular_diferencia(col))))\n",
    "\n",
    "fallecimientos = pd.DataFrame(fallecidos.drop(fallecidos[fallecidos['region']==\"Total\"].index, axis=0).groupby(\"fecha\")[\"fallecidos\"].sum()).reset_index().assign(fallecidos_nuevos = (lambda df: df[\"fallecidos\"].transform(lambda col: calcular_diferencia(col))))\n",
    "\n",
    "casos_activos = pd.DataFrame(activos.groupby(\"fecha\")[\"casos_activos\"].sum()).reset_index()"
   ]
  },
  {
   "cell_type": "code",
   "execution_count": null,
   "metadata": {},
   "outputs": [],
   "source": [
    "#Casos confirmados\n",
    "plot_confirmados = alt.Chart(casos_confirmados).mark_line().encode(\n",
    "    x=alt.X(\"fecha:T\", title= \"Fecha\"),\n",
    "    y=alt.Y(\"casos_confirmados_nuevos\", title= \"Casos confirmados\"),\n",
    "    tooltip = \"casos_confirmados_nuevos\"\n",
    ").properties(\n",
    "    title=\"Evolución casos confirmados\",\n",
    "    width=1400,\n",
    "    height=500\n",
    ")   \n",
    "\n",
    "#Fallecimientos\n",
    "plot_fallecimientos = alt.Chart(fallecimientos).mark_line().encode(\n",
    "    x=alt.X(\"fecha:T\", title= \"Fecha\"),\n",
    "    y=alt.Y(\"fallecidos_nuevos\", title= \"Fallecidos\"),\n",
    "    tooltip = \"fallecidos_nuevos\"\n",
    ").properties(\n",
    "    title=\"Evolución de fallecimientos\",\n",
    "    width=1400,\n",
    "    height=500\n",
    ") \n",
    "\n",
    "#Casos activos\n",
    "plot_activos = alt.Chart(casos_activos).mark_line().encode(\n",
    "    x=alt.X(\"fecha:T\", title= \"Fecha\"),\n",
    "    y=alt.Y(\"casos_activos\", title= \"Casos activos\"),\n",
    "    tooltip = \"casos_activos\"\n",
    ").properties(\n",
    "    title=\"Evolución de casos activos\",\n",
    "    width=1400,\n",
    "    height=500\n",
    ") \n",
    "\n",
    "alt.vconcat(\n",
    "    plot_confirmados, \n",
    "    plot_fallecimientos, \n",
    "    plot_activos\n",
    ").resolve_scale(\n",
    "    x='shared'\n",
    ")"
   ]
  },
  {
   "cell_type": "markdown",
   "metadata": {},
   "source": [
    "**Comentarios:** Comparando los gráficos anteriores podemos decir que los pick, hasta la fecha, de casos confirmados, fallecidos y casos avtivos se vivieron durante junio y julio. En noviembre los registros parecen estabilizarle, a excepción de los fallecidos que siguen oscilando pero que no superan los 100."
   ]
  },
  {
   "cell_type": "markdown",
   "metadata": {},
   "source": [
    "## Ejercicio 5\n",
    "\n",
    "(10 puntos)\n",
    "\n",
    "Comparar la tasa de incidencia entre las regiones a lo largo del tiempo."
   ]
  },
  {
   "cell_type": "code",
   "execution_count": null,
   "metadata": {},
   "outputs": [],
   "source": [
    "df= confirmados.groupby([\"region\",\"fecha\"])[\"tasa\"].mean().reset_index()"
   ]
  },
  {
   "cell_type": "code",
   "execution_count": null,
   "metadata": {},
   "outputs": [],
   "source": [
    "alt.Chart(df).mark_line().encode(\n",
    "    x=alt.X(\"fecha:T\", title= \"Fecha\"),\n",
    "    y=alt.Y(\"mean(tasa)\", title= \"Tasa de incidencia promedio\"),\n",
    "    color=alt.Color(\"region:N\", title=\"Región\", scale=alt.Scale(scheme='category20')),\n",
    "    tooltip = alt.Tooltip(\"region\", title=\"Región\")\n",
    ").properties(\n",
    "    title=\"Evolución tasa promedio por región\",\n",
    "    width=1300,\n",
    "    height=500\n",
    ")    "
   ]
  },
  {
   "cell_type": "markdown",
   "metadata": {},
   "source": [
    "**Comentarios:** En abril e inicio de mayo es dificl concluir algo, de mayo a julio las regiones más afectadas fueron la Metropolitana, Tarapacá y Antofagasta (en ese orden), a finales de julio e inicio de septiembre se suman Arica y Parinacota y Magallanes, respectivamente, a las más afectadas. "
   ]
  },
  {
   "cell_type": "markdown",
   "metadata": {},
   "source": [
    "## Ejercicio 6\n",
    "\n",
    "(10 puntos)\n",
    "\n",
    "¿Hay alguna conclusión que puedas obtener rápidamente al graficar un _scatter plot_ con los casos confirmados y tasa de incidencia de cada comuna para los días 13 de abril y 6 de noviembre del 2020? Además, colorea cada punto según la región a la que pertenece y considera si es útil en el gráfico que el tamaño sea proporcional a la población."
   ]
  },
  {
   "cell_type": "code",
   "execution_count": null,
   "metadata": {},
   "outputs": [],
   "source": [
    "trece_abril = confirmados.loc[confirmados[\"fecha\"]==\"2020-04-13\"]\n",
    "seis_nov = confirmados.loc[confirmados[\"fecha\"]==\"2020-11-06\"]"
   ]
  },
  {
   "cell_type": "code",
   "execution_count": null,
   "metadata": {},
   "outputs": [],
   "source": [
    "plot_abril=alt.Chart(trece_abril).mark_circle().encode(\n",
    "    x=alt.X(\"casos_confirmados:Q\", title= \"Casos confirmados\"),\n",
    "    y=alt.Y(\"tasa:Q\", title=\"Tasa de incidencia\"),\n",
    "    color=alt.Color(\"region:N\", title= \"Región\", scale=alt.Scale(scheme='category20')),\n",
    "    tooltip=[alt.Tooltip(\"region\", title=\"Región\")],\n",
    "    size = alt.Tooltip(\"poblacion\", title=\"Población\")\n",
    ").properties(\n",
    "    title=\"Tasa de incidencia v/s Casos confirmados el 13 de abril de 2020\",\n",
    "    width=1200,\n",
    "    height=400\n",
    ")\n",
    "\n",
    "plot_nov=alt.Chart(seis_nov).mark_circle().encode(\n",
    "    x=alt.X(\"casos_confirmados:Q\", title= \"Casos confirmados\"),\n",
    "    y=alt.Y(\"tasa:Q\", title=\"Tasa de incidencia\"),\n",
    "    color=alt.Color(\"region:N\", title= \"Región\", scale=alt.Scale(scheme='category20')),\n",
    "    tooltip=alt.Tooltip(\"region\", title=\"Región\"),\n",
    "    size = alt.Tooltip(\"poblacion\", title=\"Población\")\n",
    ").properties(\n",
    "    title=\"Tasa de incidencia v/s Casos confirmados el 06 de noviembre de 2020\",\n",
    "    width=1200,\n",
    "    height=400\n",
    ")\n",
    "\n",
    "display(plot_abril, plot_nov)"
   ]
  },
  {
   "cell_type": "markdown",
   "metadata": {},
   "source": [
    "**Comentarios:** Comparando los ejes de cada gráfico rapidamente notamos que la tasa de incidencia y los casos confirmados en noviembre son considerablemente mayores, por los colores también podemos decir que en abril La Araucanía, Magallanes y de la Antártica Chilena, Ñuble y la Metropolitana eran las regiones con mayores tasas y casos confirmados sin enbargo, en noviembre la Metropolitana, Antofagasta y Magallanes y de la Antártica Chilena llevan la delantera.\n",
    "Que el tamaño de los puntos sea proporcional a la población puede ser útil ya que ayuda a dimensionar la relación entre la tasa de incidencia y la población."
   ]
  },
  {
   "cell_type": "markdown",
   "metadata": {},
   "source": [
    "## Ejercicio 7\n",
    "\n",
    "(10 puntos)\n",
    "\n",
    "1. Grafica la evolución de los casos activos de cada comuna en un solo gráfico. \n",
    "2. Grafica la evolución de los casos activos de cada comuna en gráficos separados por región.\n",
    "\n",
    "Entrega los pros y contras de cada uno de estos enfoques."
   ]
  },
  {
   "cell_type": "code",
   "execution_count": null,
   "metadata": {},
   "outputs": [],
   "source": [
    "alt.Chart(activos).mark_line().encode(\n",
    "    x=alt.X(\"fecha:T\", title= \"Fecha\"),\n",
    "    y=alt.Y(\"casos_activos\", title= \"Casos activos\"),\n",
    "    color=alt.Color('comuna:N', title=\"Comuna\", scale=alt.Scale(scheme='rainbow')),\n",
    "    tooltip = \"comuna\"\n",
    ").properties(\n",
    "    title=\"Evolución de casos activos por comuna\",\n",
    "    width=1200,\n",
    "    height=400\n",
    ") "
   ]
  },
  {
   "cell_type": "code",
   "execution_count": null,
   "metadata": {},
   "outputs": [],
   "source": [
    "for reg in activos.region.unique():\n",
    "    display(alt.Chart(activos.loc[ activos[\"region\"] == reg]).mark_line(opacity=0.8).encode(\n",
    "        x=alt.X(\"fecha:T\", title= \"Fecha\"),\n",
    "        y=alt.Y(\"casos_activos:Q\", title= \"Casos activos\"),\n",
    "        color=alt.Color('comuna:N', title=\"Comuna\", scale=alt.Scale(scheme='rainbow')),\n",
    "        tooltip=['comuna']\n",
    "    ).properties(\n",
    "        title=f\"Evolución de casos activos por comuna en la Región {reg}\",\n",
    "        width=1200,\n",
    "        height=400\n",
    "    ))"
   ]
  },
  {
   "cell_type": "markdown",
   "metadata": {},
   "source": [
    "**Comentarios:** \n",
    "1. Enfoque Nacional: Lo favorable es que se tiene una visión clara de los registros máximos a nivel país, se puede visualizar cuándo y en qué comuna se registró la cantidad de casos activos maxima, sin embargo el resto de los registros (casos activos < 800) difícilmente se pueden distinguir entre sí.\n",
    "2. Enfoque regional: En este caso, es más facil visualizar y comparar los registros por región, sobre todo en regiones con pocas comunas, sin embargo en las que hay muchas el problema sigue siendo difícil diferenciar entre registros, además no es conveniente si es que se quiere realizar un análisis nacional."
   ]
  },
  {
   "cell_type": "markdown",
   "metadata": {},
   "source": [
    "## Ejercicio 8\n",
    "\n",
    "(10 puntos)\n",
    "\n",
    "Hacer un gráfico que permita comparar rápidamente entre regiones su promedio de casos activos , máximo de casos confirmados y fallecidos. Utiliza los valores reales y apoyarlos con colores.\n",
    "\n",
    "Se adjunta el diccionario `region_names` con tal de reemplazar los nombres de las regiones en los datos `fallecidos` para poder unir con los otros datos. "
   ]
  },
  {
   "cell_type": "code",
   "execution_count": null,
   "metadata": {},
   "outputs": [],
   "source": [
    "region_names = {\n",
    "    \"Araucanía\": \"La Araucanía\",\n",
    "    \"La Araucania\": \"La Araucanía\",\n",
    "    \"Aysén\": \"Aysén del General Carlos Ibáñez del Campo\",\n",
    "    \"Aysen\": \"Aysén del General Carlos Ibáñez del Campo\",\n",
    "    \"Magallanes\": \"Magallanes y de la Antártica Chilena\",\n",
    "    \"Magallanes y la Antartica\": \"Magallanes y de la Antártica Chilena\",\n",
    "    \"Metropolitana\": \"Metropolitana de Santiago\",\n",
    "    \"O’Higgins\": \"Libertador General Bernardo O'Higgins\",\n",
    "    \"Del Libertador General Bernardo O’Higgins\": \"Libertador General Bernardo O'Higgins\",\n",
    "    \"Biobio\": \"Biobío\",\n",
    "    \"Nuble\":\"Ñuble\",\n",
    "    \"Los Rios\": \"Los Ríos\",\n",
    "    \"Tarapaca\": \"Tarapacá\", \n",
    "    \"Valparaiso\": \"Valparaíso\"\n",
    "}"
   ]
  },
  {
   "cell_type": "code",
   "execution_count": null,
   "metadata": {},
   "outputs": [],
   "source": [
    "max_fallecidos = pd.DataFrame(fallecidos.drop(fallecidos[fallecidos[\"region\"]==\"Total\"].index, axis=0).replace(region_names).groupby(\"region\")[\"fallecidos\"].max()).reset_index()\n",
    "max_confirmados = pd.DataFrame(confirmados.replace(region_names).groupby(\"region\")[\"casos_confirmados\"].max()).reset_index()\n",
    "prom_activos = pd.DataFrame(activos.replace(region_names).groupby(\"region\")[\"casos_activos\"].mean()).reset_index()\n",
    "\n",
    "df=prom_activos.merge(max_confirmados, on = \"region\").merge(max_fallecidos, on = \"region\")"
   ]
  },
  {
   "cell_type": "code",
   "execution_count": null,
   "metadata": {},
   "outputs": [],
   "source": [
    "plot_casos_confirmados = alt.Chart(df).mark_circle(opacity=0.7).encode(\n",
    "    x=alt.X(\"casos_activos\", title=\"Promedio casos activos\" ),\n",
    "    y=alt.Y(\"casos_confirmados:Q\", title=\"Máx. casos confirmados (puntos)\"),\n",
    "    color=alt.Color(\"region:N\", title=\"Comuna\", scale=alt.Scale(scheme=\"category20\")),\n",
    "    tooltip=[\"region\"]\n",
    ").properties(\n",
    "    title= \"Máximos casos confirmados y fallecidos v/s promedio de casos activos por región\",\n",
    "    width=1000,\n",
    "    height=500\n",
    ")\n",
    "plot_fallecidos=alt.Chart(df).mark_point(shape='square', opacity=0.7).encode(\n",
    "    x=alt.X(\"casos_activos\", title=\"Promedio casos activos\" ),\n",
    "    y=alt.Y(\"fallecidos:Q\", title=\"Máx. fallecidos (cuadrados)\"),\n",
    "    color=alt.Color(\"region:N\", title=\"Comuna\", scale=alt.Scale(scheme=\"category20\")),\n",
    "    tooltip=[\"region\"]\n",
    ").properties(\n",
    "    width=1400,\n",
    "    height=600\n",
    ")\n",
    "plot_casos_confirmados+plot_fallecidos"
   ]
  },
  {
   "cell_type": "markdown",
   "metadata": {},
   "source": [
    "**Comentarios:** A partir del gráfico anterior podemos decir que la región Metropolitana es la que cuenta con mayor promedio de casos activos, maxima canticadad de casos confirmados y fallecidos. Mientras que en general, podríamos decir que existe cierta relación directa entre el promedio de casos activos y el máximo de casos confirmados, en cambio, no se puede decir lo mismo entre el primero y el máximo de fallecidos."
   ]
  },
  {
   "cell_type": "markdown",
   "metadata": {},
   "source": [
    "## Ejercicio 9\n",
    "\n",
    "\n",
    "En este ejercicio buscaremos realizar un mini-dashboard respecto al estado de los casos de COVID-19 en Chile, por lo tanto utilizaremos haremos uso de datos geográficos de manera operacional (es decir, no nos preocuparemos de proyecciones en mapas ni nada por el estilo), lo único es que debes instalar `geopandas` en tu ambiente virtual y no olvidar actualizarlo en tu `environment.yml` para luego subirlo a tu repositorio de GitHub.\n",
    "\n",
    "Con tu ambiente activo (`conda activate mat281`) basta con ejecutar `conda install -c conda-forge geopandas` para instalar `geopandas`."
   ]
  },
  {
   "cell_type": "code",
   "execution_count": null,
   "metadata": {},
   "outputs": [],
   "source": [
    "import geopandas as gpd\n",
    "from pathlib import Path"
   ]
  },
  {
   "cell_type": "code",
   "execution_count": null,
   "metadata": {},
   "outputs": [],
   "source": [
    "shp_filepath = Path().resolve() / \"data\" / \"regiones_chile.shp\"\n",
    "regiones = gpd.read_file(shp_filepath)\n",
    "regiones.head()"
   ]
  },
  {
   "cell_type": "code",
   "execution_count": null,
   "metadata": {},
   "outputs": [],
   "source": [
    "type(regiones)"
   ]
  },
  {
   "cell_type": "markdown",
   "metadata": {},
   "source": [
    "Lo único que tienes que saber es que un `GeoDataFrame` es idéntico a un `DataFrame` salvo que debe poseer una columna llamada `geometry` caracterice los elementros geométricos, que en este casos son polígonos con los límites de las regiones de Chile. \n",
    "\n",
    "Para graficar mapas en Altair se debe usar `mark_geoshape`, además, para no preocuparnos de las proyecciones si o si debes declarar lo siguiente que se muestra en la siguiente celda en las propiedades del gráfico. El resto es igual a cualquier otro gráfico de Altair."
   ]
  },
  {
   "cell_type": "code",
   "execution_count": null,
   "metadata": {},
   "outputs": [],
   "source": [
    "alt.Chart(regiones).mark_geoshape().encode(\n",
    ").properties(\n",
    "    projection={'type': 'identity', 'reflectY': True},\n",
    "    width=250,\n",
    "    height=600\n",
    ")"
   ]
  },
  {
   "cell_type": "markdown",
   "metadata": {},
   "source": [
    "### Ejercicio 9.1\n",
    "\n",
    "(10 puntos)\n",
    "\n",
    "Define el `DataFrame` con el nombre `casos_geo` tal que tenga las columnas\n",
    "\n",
    "* `region`\n",
    "* `codigo_region`\n",
    "* `fecha`\n",
    "* `poblacion`\n",
    "* `casos_confirmados`\n",
    "* `tasa`\n",
    "* `casos_activos`\n",
    "* `fallecidos`\n",
    "* `geometry`\n",
    "\n",
    "Ten mucho cuidado como unes los dataframes `confirmados`, `activos`, `fallecidos` y `regiones`. Idealmente utilizar el código de región, pero en caso que no se encuentren disponibles utilizar el nombre de la región (no olivdar utilizar el diccionario `region_names`)."
   ]
  },
  {
   "cell_type": "code",
   "execution_count": null,
   "metadata": {},
   "outputs": [],
   "source": [
    "casos_geo = (\n",
    "    confirmados[[\"region\", \"region_id\"]].drop_duplicates().rename(columns={\"region_id\":\"codigo_region\"})\n",
    "    .merge(confirmados.groupby([\"region\", \"fecha\"])[\"poblacion\"].sum().reset_index(), on=\"region\", how=\"inner\")\n",
    "    .merge(confirmados.groupby([\"region\", \"fecha\"])[\"casos_confirmados\"].sum().reset_index(), on=[\"region\",\"fecha\"], how=\"inner\")\n",
    "    .assign(tasa= lambda x: (x.casos_confirmados/x.poblacion)*100000)\n",
    "    .replace(region_names)\n",
    "    .merge(activos.groupby([\"codigo_region\", \"fecha\"])[\"casos_activos\"].sum().reset_index(), on=[\"codigo_region\", \"fecha\"], how=\"inner\")\n",
    "    .merge(fallecidos.groupby([\"region\", \"fecha\"])[\"fallecidos\"].sum().reset_index().replace(region_names), on=[\"region\", \"fecha\"], how=\"inner\")\n",
    "    .merge(regiones[[\"codregion\", \"geometry\"]].rename(columns={\"codregion\": \"codigo_region\"}), on=\"codigo_region\", how=\"inner\")\n",
    "    .fillna(0)\n",
    ")\n",
    "\n",
    "casos_geo.head()"
   ]
  },
  {
   "cell_type": "markdown",
   "metadata": {},
   "source": [
    "Ejecuta lo siguiente para convertir el DataFrame anterior en un GeoDataFrames"
   ]
  },
  {
   "cell_type": "code",
   "execution_count": null,
   "metadata": {},
   "outputs": [],
   "source": [
    "casos_geo = casos_geo.pipe(lambda x: gpd.GeoDataFrame(x, geometry=\"geometry\"))"
   ]
  },
  {
   "cell_type": "markdown",
   "metadata": {},
   "source": [
    "### Ejercicio 9.2\n",
    "\n",
    "(5 puntos)\n",
    "\n",
    "Modifica la función `covid_chile_chart` tal que reciba una fecha y una columna. Luego, debe filtrar `casos_geo` con registros de la fecha seleccionada y graficar un mapa donde las regiones se colereen según la columna escogida. "
   ]
  },
  {
   "cell_type": "code",
   "execution_count": null,
   "metadata": {},
   "outputs": [],
   "source": [
    "def covid_chile_chart(fecha, col):\n",
    "    \n",
    "    fecha = pd.to_datetime(fecha)\n",
    "    data = casos_geo.loc[lambda x: x['fecha'] == fecha]\n",
    "    \n",
    "    chart = alt.Chart(data).mark_geoshape().encode(\n",
    "        color=col\n",
    "    ).properties(\n",
    "        projection={'type': 'identity', 'reflectY': True},\n",
    "        width=150,\n",
    "        height=400\n",
    "    )\n",
    "    \n",
    "    chart.display()\n",
    "    return"
   ]
  },
  {
   "cell_type": "markdown",
   "metadata": {},
   "source": [
    "Prueba con lo siguiente"
   ]
  },
  {
   "cell_type": "code",
   "execution_count": null,
   "metadata": {},
   "outputs": [],
   "source": [
    "fecha = \"2020-04-13\"\n",
    "col = \"tasa\"\n",
    "covid_chile_chart(fecha, col)"
   ]
  },
  {
   "cell_type": "markdown",
   "metadata": {},
   "source": [
    "### Ejercicio 9.3\n",
    "\n",
    "(5 puntos)\n",
    "\n",
    "Ahora utilizando `widgets` generaremos el dashboard interactivo. Define lo siguiente:\n",
    "\n",
    "* col_widget: Un `widgets.Dropdown` donde las opciones a seleccionar sean las columnas `poblacion`, `casos_confirmados`, `tasa`, `casos_activos` y `fallecidos`. Además, el argumento `description` debe ser `Columna`.\n",
    "* fecha_widget: Un `widgets.DatePicker` donde el argumento `description` sea `Fecha`.\n",
    "* Ambos widgets deben tener el argumento `continuous_update=False`"
   ]
  },
  {
   "cell_type": "code",
   "execution_count": null,
   "metadata": {},
   "outputs": [],
   "source": [
    "import ipywidgets as widgets\n",
    "from ipywidgets import interactive, interact"
   ]
  },
  {
   "cell_type": "code",
   "execution_count": null,
   "metadata": {},
   "outputs": [],
   "source": [
    "col_widget = widgets.Dropdown(\n",
    "    options=[(\"Poblacion\", \"poblacion\"), (\"Casos confirmados\", \"casos_confirmados\"),\n",
    "             (\"Tasa\", \"tasa\"), (\"Casos activos\", \"casos_activos\"), (\"Fallecidos\", \"fallecidos\")], \n",
    "    description=\"Columna\",\n",
    "    continuous_update = False\n",
    ")"
   ]
  },
  {
   "cell_type": "code",
   "execution_count": null,
   "metadata": {},
   "outputs": [],
   "source": [
    "fecha_widget = widgets.DatePicker(\n",
    "    description='Fecha',\n",
    "    continuous_update = False,\n",
    "    disabled=False\n",
    ")"
   ]
  },
  {
   "cell_type": "markdown",
   "metadata": {},
   "source": [
    "Finalmente, haciendo uso de `interactive`, la función `covid_chile_chart` y todos los widgets es posible crear un _dashboard_ interactivo con los datos de Covid-19.\n",
    "\n",
    "Respira profundo y explora tu creación!"
   ]
  },
  {
   "cell_type": "code",
   "execution_count": null,
   "metadata": {},
   "outputs": [],
   "source": [
    "covid_dashboard = interactive(\n",
    "    covid_chile_chart,\n",
    "    fecha=fecha_widget,\n",
    "    col=col_widget\n",
    ")\n",
    "covid_dashboard"
   ]
  },
  {
   "cell_type": "markdown",
   "metadata": {},
   "source": [
    "**Comentarios:** Demora demasiado en cargar, no creo que sea muy conveniente utilizarlo para realizar análisis rápido por esta razón."
   ]
  }
 ],
 "metadata": {
  "kernelspec": {
   "display_name": "Python 3",
   "language": "python",
   "name": "python3"
  },
  "language_info": {
   "codemirror_mode": {
    "name": "ipython",
    "version": 3
   },
   "file_extension": ".py",
   "mimetype": "text/x-python",
   "name": "python",
   "nbconvert_exporter": "python",
   "pygments_lexer": "ipython3",
   "version": "3.7.8"
  }
 },
 "nbformat": 4,
 "nbformat_minor": 4
}
